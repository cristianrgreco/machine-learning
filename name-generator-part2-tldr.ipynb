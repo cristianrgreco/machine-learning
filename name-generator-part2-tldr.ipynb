{
 "cells": [
  {
   "cell_type": "markdown",
   "id": "1201f290",
   "metadata": {},
   "source": [
    "# Name Generator - Part 2: TLDR"
   ]
  },
  {
   "cell_type": "code",
   "execution_count": 201,
   "id": "8c4a8569",
   "metadata": {},
   "outputs": [],
   "source": [
    "import torch\n",
    "import torch.nn.functional as F\n",
    "import matplotlib.pyplot as plt\n",
    "%matplotlib inline\n",
    "\n",
    "names = open('names.txt', 'r').read().splitlines()"
   ]
  },
  {
   "cell_type": "code",
   "execution_count": 202,
   "id": "3587cbef",
   "metadata": {},
   "outputs": [],
   "source": [
    "chars = ['.'] + sorted(set(list(''.join(names))))\n",
    "\n",
    "stoi = {}\n",
    "itos = {}\n",
    "for i,s in enumerate(chars):\n",
    "    itos[i] = s\n",
    "    stoi[s] = i"
   ]
  },
  {
   "cell_type": "code",
   "execution_count": 203,
   "id": "49f24e74",
   "metadata": {},
   "outputs": [],
   "source": [
    "def create_training_data(block_size = 3, num_examples = -1):\n",
    "    X = []\n",
    "    Y = []\n",
    "\n",
    "    for name in names[:num_examples]:\n",
    "        context = [0] * block_size\n",
    "        for char in name + '.':\n",
    "            charIdx = stoi[char]\n",
    "            X.append(context)\n",
    "            Y.append(charIdx)\n",
    "            context = context[1:] + [charIdx]\n",
    "            \n",
    "    return (torch.tensor(X), torch.tensor(Y))\n",
    "        \n",
    "(X, Y) = create_training_data(block_size = 3, num_examples=1)"
   ]
  },
  {
   "cell_type": "code",
   "execution_count": 204,
   "id": "460a0a0c",
   "metadata": {},
   "outputs": [],
   "source": [
    "embed_size = 2\n",
    "hidden_layer_size = 100"
   ]
  },
  {
   "cell_type": "code",
   "execution_count": 205,
   "id": "b90c5a3a",
   "metadata": {},
   "outputs": [],
   "source": [
    "C = torch.randn((len(chars), embed_size))\n",
    "W1 = torch.randn(X.shape[1] * embed_size, hidden_layer_size)\n",
    "b1 = torch.randn(hidden_layer_size)"
   ]
  },
  {
   "cell_type": "code",
   "execution_count": 206,
   "id": "56ff2dbf",
   "metadata": {},
   "outputs": [
    {
     "name": "stdout",
     "output_type": "stream",
     "text": [
      "X torch.Size([5, 3])\n",
      "C torch.Size([27, 2])\n",
      "W1 torch.Size([6, 100])\n"
     ]
    }
   ],
   "source": [
    "print('X', X.shape)\n",
    "print('C', C.shape)\n",
    "print('W1', W1.shape)"
   ]
  },
  {
   "cell_type": "markdown",
   "id": "81191250",
   "metadata": {},
   "source": [
    "Inputs to first layer will be embedding table for training set"
   ]
  },
  {
   "cell_type": "code",
   "execution_count": 207,
   "id": "e43dca45",
   "metadata": {},
   "outputs": [
    {
     "data": {
      "text/plain": [
       "torch.Size([5, 3, 2])"
      ]
     },
     "execution_count": 207,
     "metadata": {},
     "output_type": "execute_result"
    }
   ],
   "source": [
    "embed = C[X]\n",
    "embed.shape"
   ]
  },
  {
   "cell_type": "code",
   "execution_count": 208,
   "id": "206d52f8",
   "metadata": {},
   "outputs": [
    {
     "name": "stdout",
     "output_type": "stream",
     "text": [
      "embed view torch.Size([5, 6])\n",
      "W1 torch.Size([5, 6])\n"
     ]
    }
   ],
   "source": [
    "print('embed view', embed.view(-1, 6).shape)\n",
    "print('W1', embed.view(-1, 6).shape)"
   ]
  },
  {
   "cell_type": "code",
   "execution_count": 209,
   "id": "4fe94e4c",
   "metadata": {},
   "outputs": [],
   "source": [
    "h = torch.tanh(embed.view(-1, 6) @ W1 + b1)"
   ]
  },
  {
   "cell_type": "code",
   "execution_count": 210,
   "id": "b80da615",
   "metadata": {},
   "outputs": [],
   "source": [
    "W2 = torch.randn((hidden_layer_size, 27))\n",
    "b2 = torch.randn(27)"
   ]
  },
  {
   "cell_type": "code",
   "execution_count": 211,
   "id": "68a4650a",
   "metadata": {},
   "outputs": [
    {
     "name": "stdout",
     "output_type": "stream",
     "text": [
      "h torch.Size([5, 100])\n",
      "W2 torch.Size([100, 27])\n"
     ]
    }
   ],
   "source": [
    "print('h', h.shape)\n",
    "print('W2', W2.shape)"
   ]
  },
  {
   "cell_type": "code",
   "execution_count": 212,
   "id": "42ac1702",
   "metadata": {},
   "outputs": [],
   "source": [
    "logits = h @ W2 + b2\n",
    "loss = F.cross_entropy(logits, Y)"
   ]
  },
  {
   "cell_type": "code",
   "execution_count": 213,
   "id": "7c95ca53",
   "metadata": {},
   "outputs": [],
   "source": [
    "parameters = [C, W1, b1, W2, b2]\n",
    "for parameter in parameters:\n",
    "    parameter.requires_grad = True"
   ]
  },
  {
   "cell_type": "code",
   "execution_count": 214,
   "id": "9ece5cc4",
   "metadata": {},
   "outputs": [
    {
     "name": "stdout",
     "output_type": "stream",
     "text": [
      "tensor(16.3242, grad_fn=<NllLossBackward0>)\n",
      "tensor(8.7062, grad_fn=<NllLossBackward0>)\n",
      "tensor(3.7942, grad_fn=<NllLossBackward0>)\n",
      "tensor(2.2180, grad_fn=<NllLossBackward0>)\n",
      "tensor(1.5613, grad_fn=<NllLossBackward0>)\n",
      "tensor(1.0471, grad_fn=<NllLossBackward0>)\n",
      "tensor(0.6249, grad_fn=<NllLossBackward0>)\n",
      "tensor(0.3250, grad_fn=<NllLossBackward0>)\n",
      "tensor(0.1798, grad_fn=<NllLossBackward0>)\n",
      "tensor(0.1177, grad_fn=<NllLossBackward0>)\n"
     ]
    }
   ],
   "source": [
    "for i in range(10):\n",
    "    embed = C[X]\n",
    "    h = torch.tanh(embed.view(-1, 6) @ W1 + b1)\n",
    "    logits = h @ W2 + b2\n",
    "    loss = F.cross_entropy(logits, Y)\n",
    "    print(loss)\n",
    "    \n",
    "    for parameter in parameters:\n",
    "        parameter.grad = None\n",
    "    loss.backward()\n",
    "    \n",
    "    for parameter in parameters:\n",
    "        parameter.data += -0.1 * parameter.grad"
   ]
  },
  {
   "cell_type": "code",
   "execution_count": 215,
   "id": "e8cabf71",
   "metadata": {},
   "outputs": [
    {
     "name": "stdout",
     "output_type": "stream",
     "text": [
      "tensor(18.1794, grad_fn=<NllLossBackward0>)\n",
      "tensor(16.7289, grad_fn=<NllLossBackward0>)\n",
      "tensor(15.6544, grad_fn=<NllLossBackward0>)\n",
      "tensor(14.7800, grad_fn=<NllLossBackward0>)\n",
      "tensor(13.9975, grad_fn=<NllLossBackward0>)\n",
      "tensor(13.2961, grad_fn=<NllLossBackward0>)\n",
      "tensor(12.6734, grad_fn=<NllLossBackward0>)\n",
      "tensor(12.1297, grad_fn=<NllLossBackward0>)\n",
      "tensor(11.6558, grad_fn=<NllLossBackward0>)\n",
      "tensor(11.2384, grad_fn=<NllLossBackward0>)\n"
     ]
    }
   ],
   "source": [
    "block_size = 3\n",
    "(X, Y) = create_training_data(block_size = block_size)\n",
    "\n",
    "C = torch.randn((len(chars), embed_size))\n",
    "W1 = torch.randn((block_size * embed_size, hidden_layer_size))\n",
    "b1 = torch.randn(hidden_layer_size)\n",
    "W2 = torch.randn((hidden_layer_size, len(chars)))\n",
    "b2 = torch.randn(len(chars))\n",
    "parameters = [C, W1, b1, W2, b2]\n",
    "for parameter in parameters:\n",
    "    parameter.requires_grad = True\n",
    "\n",
    "for i in range(10):\n",
    "    embed = C[X]\n",
    "    h = torch.tanh(embed.view(-1, 6) @ W1 + b1)\n",
    "    logits = h @ W2 + b2\n",
    "    loss = F.cross_entropy(logits, Y)\n",
    "    print(loss)\n",
    "    \n",
    "    for parameter in parameters:\n",
    "        parameter.grad = None\n",
    "    loss.backward()\n",
    "    \n",
    "    for parameter in parameters:\n",
    "        parameter.data += -0.1 * parameter.grad"
   ]
  },
  {
   "cell_type": "code",
   "execution_count": 216,
   "id": "14736c7e",
   "metadata": {
    "scrolled": true
   },
   "outputs": [
    {
     "data": {
      "text/plain": [
       "torch.Size([228140, 3])"
      ]
     },
     "execution_count": 216,
     "metadata": {},
     "output_type": "execute_result"
    }
   ],
   "source": [
    "X.shape"
   ]
  },
  {
   "cell_type": "markdown",
   "id": "20f28047",
   "metadata": {},
   "source": [
    "To create a minibatch, we want to pick X amount of integers to index into `C[X]`, which has 228,140 entries."
   ]
  },
  {
   "cell_type": "code",
   "execution_count": 217,
   "id": "7b118d09",
   "metadata": {},
   "outputs": [
    {
     "data": {
      "text/plain": [
       "tensor([189697,  10048, 109075,  64467,  16111, 170257, 123401, 164898, 109578,\n",
       "         70169,  29334,  41806, 187298,  57594,  92337,  33467, 204815, 147390,\n",
       "         85325, 168186, 124738, 167456,  72819, 128041, 141053,  89293,  56854,\n",
       "        198739, 107771, 201586,  82269, 103768])"
      ]
     },
     "execution_count": 217,
     "metadata": {},
     "output_type": "execute_result"
    }
   ],
   "source": [
    "ix = torch.randint(0, X.shape[0], (32,))\n",
    "ix"
   ]
  },
  {
   "cell_type": "code",
   "execution_count": 218,
   "id": "0ad7b622",
   "metadata": {},
   "outputs": [
    {
     "data": {
      "text/plain": [
       "2.5881264209747314"
      ]
     },
     "execution_count": 218,
     "metadata": {},
     "output_type": "execute_result"
    },
    {
     "data": {
      "image/png": "[encoded data removed]",
      "text/plain": [
       "<Figure size 640x480 with 1 Axes>"
      ]
     },
     "metadata": {},
     "output_type": "display_data"
    }
   ],
   "source": [
    "block_size = 3\n",
    "(X, Y) = create_training_data(block_size = block_size)\n",
    "\n",
    "C = torch.randn((len(chars), embed_size))\n",
    "W1 = torch.randn((block_size * embed_size, hidden_layer_size))\n",
    "b1 = torch.randn(hidden_layer_size)\n",
    "W2 = torch.randn((hidden_layer_size, len(chars)))\n",
    "b2 = torch.randn(len(chars))\n",
    "\n",
    "parameters = [C, W1, b1, W2, b2]\n",
    "for parameter in parameters:\n",
    "    parameter.requires_grad = True\n",
    "\n",
    "losses = []\n",
    "    \n",
    "for i in range(10000):\n",
    "    ix = torch.randint(0, X.shape[0], (32,))\n",
    "    \n",
    "    embed = C[X[ix]]\n",
    "    h = torch.tanh(embed.view(-1, 6) @ W1 + b1)\n",
    "    logits = h @ W2 + b2\n",
    "    loss = F.cross_entropy(logits, Y[ix])\n",
    "    losses.append(loss.item())\n",
    "    \n",
    "    for parameter in parameters:\n",
    "        parameter.grad = None\n",
    "    loss.backward()\n",
    "    \n",
    "    for parameter in parameters:\n",
    "        parameter.data += -0.1 * parameter.grad\n",
    "        \n",
    "plt.plot(torch.arange(len(losses)), losses)\n",
    "losses[-1]"
   ]
  },
  {
   "cell_type": "markdown",
   "id": "22715d3c",
   "metadata": {},
   "source": [
    "Let's try and tweak the neural net"
   ]
  },
  {
   "cell_type": "code",
   "execution_count": 219,
   "id": "76c4bbf5",
   "metadata": {},
   "outputs": [
    {
     "data": {
      "text/plain": [
       "2.256518602371216"
      ]
     },
     "execution_count": 219,
     "metadata": {},
     "output_type": "execute_result"
    },
    {
     "data": {
      "image/png": "[encoded data removed]",
      "text/plain": [
       "<Figure size 640x480 with 1 Axes>"
      ]
     },
     "metadata": {},
     "output_type": "display_data"
    }
   ],
   "source": [
    "embed_size = 10\n",
    "block_size = 3\n",
    "hidden_layer_size = 200\n",
    "\n",
    "(X, Y) = create_training_data(block_size = block_size)\n",
    "\n",
    "C = torch.randn((len(chars), embed_size))\n",
    "W1 = torch.randn((block_size * embed_size, hidden_layer_size))\n",
    "b1 = torch.randn(hidden_layer_size)\n",
    "W2 = torch.randn((hidden_layer_size, len(chars)))\n",
    "b2 = torch.randn(len(chars))\n",
    "\n",
    "parameters = [C, W1, b1, W2, b2]\n",
    "for parameter in parameters:\n",
    "    parameter.requires_grad = True\n",
    "\n",
    "losses = []\n",
    "    \n",
    "for i in range(200000):\n",
    "    ix = torch.randint(0, X.shape[0], (32,))\n",
    "    \n",
    "    embed = C[X[ix]]\n",
    "    h = torch.tanh(embed.view(-1, block_size * embed_size) @ W1 + b1)\n",
    "    logits = h @ W2 + b2\n",
    "    loss = F.cross_entropy(logits, Y[ix])\n",
    "    losses.append(loss.item())\n",
    "    \n",
    "    for parameter in parameters:\n",
    "        parameter.grad = None\n",
    "    loss.backward()\n",
    "    \n",
    "    for parameter in parameters:\n",
    "        parameter.data += -0.1 * parameter.grad\n",
    "        \n",
    "plt.plot(torch.arange(len(losses)), losses)\n",
    "losses[-1]"
   ]
  },
  {
   "cell_type": "code",
   "execution_count": 220,
   "id": "98343813",
   "metadata": {},
   "outputs": [
    {
     "name": "stdout",
     "output_type": "stream",
     "text": [
      "oaklynna.\n",
      "lew.\n",
      "kysian.\n",
      "nyia.\n",
      "gerroway.\n",
      "shana.\n",
      "ryonu.\n",
      "jhonirenahicarroniaham.\n",
      "shamlinushita.\n",
      "atleah.\n",
      "deicena.\n",
      "suhaeloxu.\n",
      "lid.\n",
      "deyah.\n",
      "lauriilah.\n",
      "jovy.\n",
      "felin.\n",
      "ailemekinshoyalaya.\n",
      "jallambridonio.\n",
      "joyalin.\n",
      "atayvina.\n",
      "prissaius.\n",
      "auriela.\n",
      "row.\n",
      "gwius.\n",
      "insyn.\n",
      "ron.\n",
      "ellynn.\n",
      "raydenie.\n",
      "darvianisa.\n"
     ]
    }
   ],
   "source": [
    "for _ in range(30):\n",
    "    out = []\n",
    "    context = [0] * block_size\n",
    "    while True:\n",
    "        emb = C[torch.tensor([context])] # get embedding for current 3 chars\n",
    "        h = torch.tanh(emb.view(1, -1) @ W1 + b1)\n",
    "        logits = h @ W2 + b2\n",
    "        probs = F.softmax(logits, dim=1) # convert log counts to probability distribution\n",
    "        ix = torch.multinomial(probs, num_samples=1).item()\n",
    "        context = context[1:] + [ix]\n",
    "        out.append(ix)\n",
    "        if ix == 0:\n",
    "            break\n",
    "    \n",
    "    print(''.join(itos[i] for i in out))"
   ]
  },
  {
   "cell_type": "markdown",
   "id": "e6029066",
   "metadata": {},
   "source": [
    "Following is just playing around to try and reduce loss"
   ]
  },
  {
   "cell_type": "code",
   "execution_count": 246,
   "id": "3de9c519",
   "metadata": {
    "scrolled": false
   },
   "outputs": [
    {
     "data": {
      "text/plain": [
       "2.7937614917755127"
      ]
     },
     "execution_count": 246,
     "metadata": {},
     "output_type": "execute_result"
    }
   ],
   "source": [
    "iterations = 200000\n",
    "embed_size = 10\n",
    "block_size = 3\n",
    "hidden_layer_size = 200\n",
    "learning_rates = 10 ** torch.linspace(-1, 0, iterations) # 3 = number of zeros when coefficient is 10\n",
    "\n",
    "(X, Y) = create_training_data(block_size = block_size)\n",
    "\n",
    "C = torch.randn((len(chars), embed_size))\n",
    "W1 = torch.randn((block_size * embed_size, hidden_layer_size))\n",
    "b1 = torch.randn(hidden_layer_size)\n",
    "W2 = torch.randn((hidden_layer_size, len(chars)))\n",
    "b2 = torch.randn(len(chars))\n",
    "\n",
    "parameters = [C, W1, b1, W2, b2]\n",
    "for parameter in parameters:\n",
    "    parameter.requires_grad = True\n",
    "\n",
    "losses = []\n",
    "used_learning_rates = []\n",
    "\n",
    "for i in range(iterations):\n",
    "    ix = torch.randint(0, X.shape[0], (32,))\n",
    "    \n",
    "    embed = C[X[ix]]\n",
    "    h = torch.tanh(embed.view(-1, block_size * embed_size) @ W1 + b1)\n",
    "    logits = h @ W2 + b2\n",
    "    loss = F.cross_entropy(logits, Y[ix])\n",
    "    losses.append(loss.item())\n",
    "    \n",
    "    for parameter in parameters:\n",
    "        parameter.grad = None\n",
    "    loss.backward()\n",
    "    \n",
    "    learning_rate = learning_rates[i]\n",
    "    used_learning_rates.append(learning_rate.item())\n",
    "    for parameter in parameters:\n",
    "        parameter.data += -learning_rates[i] * parameter.grad\n",
    "        \n",
    "losses[-1]"
   ]
  },
  {
   "cell_type": "code",
   "execution_count": 244,
   "id": "16346a18",
   "metadata": {},
   "outputs": [
    {
     "data": {
      "text/plain": [
       "[<matplotlib.lines.Line2D at 0x2ab093640>]"
      ]
     },
     "execution_count": 244,
     "metadata": {},
     "output_type": "execute_result"
    },
    {
     "data": {
      "image/png": "[encoded data removed]",
      "text/plain": [
       "<Figure size 640x480 with 1 Axes>"
      ]
     },
     "metadata": {},
     "output_type": "display_data"
    }
   ],
   "source": [
    "plt.plot(torch.arange(len(losses)), losses)"
   ]
  },
  {
   "cell_type": "code",
   "execution_count": 245,
   "id": "aeb1416b",
   "metadata": {},
   "outputs": [
    {
     "data": {
      "text/plain": [
       "[<matplotlib.lines.Line2D at 0x2857585e0>]"
      ]
     },
     "execution_count": 245,
     "metadata": {},
     "output_type": "execute_result"
    },
    {
     "data": {
      "image/png": "[encoded data removed]",
      "text/plain": [
       "<Figure size 640x480 with 1 Axes>"
      ]
     },
     "metadata": {},
     "output_type": "display_data"
    }
   ],
   "source": [
    "plt.plot(used_learning_rates, losses)"
   ]
  },
  {
   "cell_type": "code",
   "execution_count": null,
   "id": "d9a895e1",
   "metadata": {},
   "outputs": [],
   "source": []
  }
 ],
 "metadata": {
  "kernelspec": {
   "display_name": "Python 3 (ipykernel)",
   "language": "python",
   "name": "python3"
  },
  "language_info": {
   "codemirror_mode": {
    "name": "ipython",
    "version": 3
   },
   "file_extension": ".py",
   "mimetype": "text/x-python",
   "name": "python",
   "nbconvert_exporter": "python",
   "pygments_lexer": "ipython3",
   "version": "3.10.8"
  }
 },
 "nbformat": 4,
 "nbformat_minor": 5
}
