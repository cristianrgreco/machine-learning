{
 "cells": [
  {
   "cell_type": "markdown",
   "id": "6914f45d",
   "metadata": {},
   "source": [
    "# Name Generator - Part 2\n",
    "\n",
    "We wil be creating a multi-layer perceptron based on the following paper: https://www.jmlr.org/papers/volume3/bengio03a/bengio03a.pdf\n",
    "\n",
    "We will create a 2D \"embed\" vector for each character `(27, 2)`, which the neural net will use to calculate how close certain characters are to others.\n",
    "\n",
    "The first layer of the neural net will accept 6 inputs (3 characters * 2 dimensions). It will produce a non-linearity using tanh, resulting in numbers between -1 and 1. The size of this layer is somewhat configurable. In this example we'll set it to `100` neurons.\n",
    "\n",
    "The second layer will produce a probability distribution for each character, and thus have 27 outputs.\n",
    "\n",
    "![](bengio-mlp.png)"
   ]
  },
  {
   "cell_type": "code",
   "execution_count": 152,
   "id": "838c1af5",
   "metadata": {},
   "outputs": [],
   "source": [
    "import torch\n",
    "import torch.nn.functional as F\n",
    "import matplotlib.pyplot as plt\n",
    "%matplotlib inline"
   ]
  },
  {
   "cell_type": "markdown",
   "id": "978d058b",
   "metadata": {},
   "source": [
    "Read in the list of names like before, see the first 8:"
   ]
  },
  {
   "cell_type": "code",
   "execution_count": 153,
   "id": "d60f3eba",
   "metadata": {},
   "outputs": [
    {
     "data": {
      "text/plain": [
       "['emma', 'olivia', 'ava', 'isabella', 'sophia', 'charlotte', 'mia', 'amelia']"
      ]
     },
     "execution_count": 153,
     "metadata": {},
     "output_type": "execute_result"
    }
   ],
   "source": [
    "names = open('names.txt', 'r').read().splitlines()\n",
    "names[:8]"
   ]
  },
  {
   "cell_type": "markdown",
   "id": "1c05da9f",
   "metadata": {},
   "source": [
    "Build the integer/string mappings like before:"
   ]
  },
  {
   "cell_type": "code",
   "execution_count": 154,
   "id": "c38400e2",
   "metadata": {},
   "outputs": [
    {
     "name": "stdout",
     "output_type": "stream",
     "text": [
      "{1: 'a', 2: 'b', 3: 'c', 4: 'd', 5: 'e', 6: 'f', 7: 'g', 8: 'h', 9: 'i', 10: 'j', 11: 'k', 12: 'l', 13: 'm', 14: 'n', 15: 'o', 16: 'p', 17: 'q', 18: 'r', 19: 's', 20: 't', 21: 'u', 22: 'v', 23: 'w', 24: 'x', 25: 'y', 26: 'z', 0: '.'}\n"
     ]
    }
   ],
   "source": [
    "chars = sorted(list(set(''.join(names))))\n",
    "stoi = {s:i+1 for i,s in enumerate(chars)}\n",
    "stoi['.'] = 0\n",
    "itos = {i:s for s,i in stoi.items()}\n",
    "print(itos)"
   ]
  },
  {
   "cell_type": "markdown",
   "id": "633989e3",
   "metadata": {},
   "source": [
    "Build the data set. In this case, the `X` will contain 3 characters, and `Y` will contain the expected next character."
   ]
  },
  {
   "cell_type": "code",
   "execution_count": 155,
   "id": "c0fb47b6",
   "metadata": {},
   "outputs": [
    {
     "name": "stdout",
     "output_type": "stream",
     "text": [
      "... ---> e\n",
      "..e ---> m\n",
      ".em ---> m\n",
      "emm ---> a\n",
      "mma ---> .\n"
     ]
    }
   ],
   "source": [
    "block_size = 3 # context length: how many characters do we take to predict the next one?\n",
    "\n",
    "X, Y = [], []\n",
    "\n",
    "for name in names[:1]:\n",
    "    context = [0] * block_size\n",
    "    for ch in name + '.':\n",
    "        ix = stoi[ch]\n",
    "        X.append(context)\n",
    "        Y.append(ix)\n",
    "        print(''.join(itos[i] for i in context), '--->', itos[ix])\n",
    "        context = context[1:] + [ix] # crop and append\n",
    "\n",
    "X = torch.tensor(X)\n",
    "Y = torch.tensor(Y)"
   ]
  },
  {
   "cell_type": "markdown",
   "id": "2040baf6",
   "metadata": {},
   "source": [
    "In this case, the first name provides 5 different examples to our neural net. Because each example contains 3 characters, `X` is a `5, 3` matrix. `Y` contains the 5 answers, thus is vector of size `5`."
   ]
  },
  {
   "cell_type": "code",
   "execution_count": 156,
   "id": "9c66b11c",
   "metadata": {},
   "outputs": [
    {
     "name": "stdout",
     "output_type": "stream",
     "text": [
      "tensor([[ 0,  0,  0],\n",
      "        [ 0,  0,  5],\n",
      "        [ 0,  5, 13],\n",
      "        [ 5, 13, 13],\n",
      "        [13, 13,  1]])\n",
      "torch.Size([5, 3])\n",
      "tensor([ 5, 13, 13,  1,  0])\n",
      "torch.Size([5])\n"
     ]
    }
   ],
   "source": [
    "print(X)\n",
    "print(X.shape)\n",
    "print(Y)\n",
    "print(Y.shape)"
   ]
  },
  {
   "cell_type": "markdown",
   "id": "8ec41b14",
   "metadata": {},
   "source": [
    "Let's create the embed matrix, assigning 2 dimensions for each character, initialised to random values:"
   ]
  },
  {
   "cell_type": "code",
   "execution_count": 157,
   "id": "513a0e8f",
   "metadata": {},
   "outputs": [
    {
     "data": {
      "text/plain": [
       "tensor([[ 0.9799,  0.8589],\n",
       "        [ 1.4675,  0.2374],\n",
       "        [ 1.6056,  1.0114],\n",
       "        [ 1.6632,  1.4686],\n",
       "        [ 1.2077, -0.3020],\n",
       "        [-0.2764,  0.5290],\n",
       "        [-0.7005,  0.1449],\n",
       "        [ 2.3301,  0.3210],\n",
       "        [ 0.9693,  0.1317],\n",
       "        [-0.1643, -1.7947],\n",
       "        [ 0.0177,  1.6816],\n",
       "        [ 0.6011,  0.9666],\n",
       "        [-0.1114, -1.3403],\n",
       "        [ 0.5758, -0.1690],\n",
       "        [-1.7757, -0.3478],\n",
       "        [-0.9112,  1.0972],\n",
       "        [-0.1917, -0.2253],\n",
       "        [-0.9704,  0.6929],\n",
       "        [-0.6358,  0.0104],\n",
       "        [ 1.2627,  1.0486],\n",
       "        [-0.8314, -0.6739],\n",
       "        [-0.5770,  1.7260],\n",
       "        [ 0.8120,  0.4480],\n",
       "        [ 0.2051,  0.5867],\n",
       "        [ 0.6907,  0.9118],\n",
       "        [ 1.5045, -0.3153],\n",
       "        [ 0.3842, -1.4103]])"
      ]
     },
     "execution_count": 157,
     "metadata": {},
     "output_type": "execute_result"
    }
   ],
   "source": [
    "C = torch.randn((27, 2))\n",
    "C"
   ]
  },
  {
   "cell_type": "markdown",
   "id": "5100cacd",
   "metadata": {},
   "source": [
    "We can fetch the embed matrix for our training set `X`:"
   ]
  },
  {
   "cell_type": "code",
   "execution_count": 158,
   "id": "e7adcbbd",
   "metadata": {},
   "outputs": [
    {
     "name": "stdout",
     "output_type": "stream",
     "text": [
      "torch.Size([5, 3, 2])\n",
      "tensor([[[ 0.9799,  0.8589],\n",
      "         [ 0.9799,  0.8589],\n",
      "         [ 0.9799,  0.8589]],\n",
      "\n",
      "        [[ 0.9799,  0.8589],\n",
      "         [ 0.9799,  0.8589],\n",
      "         [-0.2764,  0.5290]],\n",
      "\n",
      "        [[ 0.9799,  0.8589],\n",
      "         [-0.2764,  0.5290],\n",
      "         [ 0.5758, -0.1690]],\n",
      "\n",
      "        [[-0.2764,  0.5290],\n",
      "         [ 0.5758, -0.1690],\n",
      "         [ 0.5758, -0.1690]],\n",
      "\n",
      "        [[ 0.5758, -0.1690],\n",
      "         [ 0.5758, -0.1690],\n",
      "         [ 1.4675,  0.2374]]])\n"
     ]
    }
   ],
   "source": [
    "embed = C[X]\n",
    "print(embed.shape)\n",
    "print(embed)"
   ]
  },
  {
   "cell_type": "markdown",
   "id": "4cba0ae4",
   "metadata": {},
   "source": [
    "Observe that pytorch has created a `(5, 3, 2)` matrix, joining up the embed table for each example in `X`. For example, `0, 0, 0` has become:\n",
    "\n",
    "```\n",
    "[\n",
    "  [-0.2467,  0.7721],\n",
    "  [-0.2467,  0.7721],\n",
    "  [-0.2467,  0.7721]\n",
    "]\n",
    "```"
   ]
  },
  {
   "cell_type": "markdown",
   "id": "220fac86",
   "metadata": {},
   "source": [
    "Let's now create the second, hidden layer:"
   ]
  },
  {
   "cell_type": "code",
   "execution_count": 159,
   "id": "334645a1",
   "metadata": {},
   "outputs": [],
   "source": [
    "W1 = torch.randn((6, 100)) # each example is 3 characters * 2 dimensions\n",
    "b1 = torch.randn(100)"
   ]
  },
  {
   "cell_type": "markdown",
   "id": "3e7c7bdc",
   "metadata": {},
   "source": [
    "We want to simply matrix multiply our `embed` matrix with the weights `W1`, but they are of different shapes, where broadcasting will not work:\n",
    "\n",
    "- `embed` is of shape (5, 3, 2)\n",
    "- `W1` is of shape (6, 100)\n",
    "\n",
    "We can use the `tensor.view` function from pytorch, which will efficiently re-arrange the tensor into the desired arrangement. We can view the existing `(5, 3, 2)` matrix as a `(5, 6)` matrix, which will squash the last 2 dimensions. The result would allow us to matrix multiply as the following is broadcastable:\n",
    "\n",
    "`(5, 6) * (6, 100) = (5, 100)`"
   ]
  },
  {
   "cell_type": "code",
   "execution_count": 160,
   "id": "a2df6c6a",
   "metadata": {},
   "outputs": [
    {
     "data": {
      "text/plain": [
       "tensor([[ 0.9799,  0.8589,  0.9799,  0.8589,  0.9799,  0.8589],\n",
       "        [ 0.9799,  0.8589,  0.9799,  0.8589, -0.2764,  0.5290],\n",
       "        [ 0.9799,  0.8589, -0.2764,  0.5290,  0.5758, -0.1690],\n",
       "        [-0.2764,  0.5290,  0.5758, -0.1690,  0.5758, -0.1690],\n",
       "        [ 0.5758, -0.1690,  0.5758, -0.1690,  1.4675,  0.2374]])"
      ]
     },
     "execution_count": 160,
     "metadata": {},
     "output_type": "execute_result"
    }
   ],
   "source": [
    "embed.view(5, 6)"
   ]
  },
  {
   "cell_type": "markdown",
   "id": "132cf7aa",
   "metadata": {},
   "source": [
    "PyTorch is able to infer what the dimension should be if a `-1` is provided:"
   ]
  },
  {
   "cell_type": "code",
   "execution_count": 161,
   "id": "9e802876",
   "metadata": {},
   "outputs": [
    {
     "data": {
      "text/plain": [
       "tensor([[ 0.9799,  0.8589,  0.9799,  0.8589,  0.9799,  0.8589],\n",
       "        [ 0.9799,  0.8589,  0.9799,  0.8589, -0.2764,  0.5290],\n",
       "        [ 0.9799,  0.8589, -0.2764,  0.5290,  0.5758, -0.1690],\n",
       "        [-0.2764,  0.5290,  0.5758, -0.1690,  0.5758, -0.1690],\n",
       "        [ 0.5758, -0.1690,  0.5758, -0.1690,  1.4675,  0.2374]])"
      ]
     },
     "execution_count": 161,
     "metadata": {},
     "output_type": "execute_result"
    }
   ],
   "source": [
    "embed.view(-1, 6)"
   ]
  },
  {
   "cell_type": "markdown",
   "id": "97718d08",
   "metadata": {},
   "source": [
    "Let's calculate the outputs of the first layer:"
   ]
  },
  {
   "cell_type": "code",
   "execution_count": 162,
   "id": "05a20eb7",
   "metadata": {},
   "outputs": [
    {
     "data": {
      "text/plain": [
       "tensor([[-0.8267, -0.5699, -0.9288,  0.9575,  0.8299,  0.9997, -0.4747, -1.0000,\n",
       "          0.2539,  0.9982, -0.8216,  0.5354,  0.9946,  0.9975, -0.6350,  0.6338,\n",
       "          0.9911, -0.9872,  0.9946,  0.4709, -0.9781,  0.9127, -0.4088,  0.3465,\n",
       "         -0.9876, -0.9989, -0.9887, -0.9975,  0.9779,  0.8347, -0.9727, -0.7693,\n",
       "          0.2632,  1.0000, -0.0578, -0.3172, -0.8612, -0.1866,  0.9992, -0.7984,\n",
       "         -0.9910, -0.9191,  0.9997, -0.6888, -0.0566, -0.9432,  0.9567,  0.4622,\n",
       "          0.9290, -0.0512,  0.5275,  1.0000,  0.4506, -0.8854, -0.0371, -0.9850,\n",
       "          0.9791,  0.5580, -0.9744,  0.0797, -0.0988, -0.9998,  0.9579,  0.9467,\n",
       "          0.3039,  0.9539, -0.9979,  0.9985, -0.9890, -0.0751,  0.9631,  0.1032,\n",
       "          0.3154, -0.9508, -0.9885, -0.9929,  1.0000, -0.9842, -0.9995,  0.5695,\n",
       "          0.9744,  0.8938,  0.9982,  0.9998, -0.9875, -0.5354,  0.1940, -0.9992,\n",
       "         -0.7294,  0.9537, -0.9998, -0.9951,  0.9972, -0.0161, -0.9975,  0.8333,\n",
       "         -0.6071, -0.9850,  0.7079,  0.1070],\n",
       "        [-0.3720, -0.6807, -0.2252,  0.9859,  0.9115,  0.9966, -0.7955, -0.9995,\n",
       "         -0.6781,  0.9732, -0.8349,  0.8638,  0.9469,  0.9942,  0.7454,  0.2576,\n",
       "          0.8113, -0.9902,  0.9998, -0.8915, -0.6550,  0.7655, -0.9673,  0.8244,\n",
       "         -0.9933, -0.9852, -0.9620, -0.9699,  0.8473,  0.3466, -0.4981,  0.9371,\n",
       "         -0.5616,  0.9992,  0.6440, -0.5987,  0.2927, -0.9488,  0.9955,  0.0699,\n",
       "         -0.5928, -0.3689,  0.9979, -0.9974, -0.0763, -0.9136,  0.9770, -0.7548,\n",
       "         -0.3552,  0.6492,  0.9940,  0.9996, -0.6528, -0.9724,  0.3438, -0.9923,\n",
       "          0.5994, -0.2818, -0.8139, -0.3277,  0.4885, -0.9963,  0.9383,  0.9489,\n",
       "          0.9800,  0.9320, -0.9960,  0.9630,  0.7332,  0.7677, -0.7582, -0.7466,\n",
       "         -0.9323, -0.4962, -0.9952, -0.6727,  1.0000, -0.9978, -0.9998,  0.4672,\n",
       "         -0.4728,  0.9094,  0.9804,  0.8833, -0.8218, -0.5496,  0.5642, -0.9921,\n",
       "          0.5712,  0.7607, -0.9991, -0.9350,  0.9999,  0.3713, -0.9988, -0.1951,\n",
       "         -0.6660, -0.9514, -0.5198, -0.3963],\n",
       "        [-0.2104,  0.5989, -0.7930, -0.0846,  0.0376,  0.9881,  0.1485, -1.0000,\n",
       "         -0.5996,  0.9196, -0.9342,  0.4979,  0.8273,  0.9998,  0.6975, -0.3927,\n",
       "         -0.7950, -0.9271, -0.3180,  0.9465, -0.4415, -0.8354,  0.9007,  0.2859,\n",
       "         -0.8593,  0.2708,  0.9778, -0.9944,  0.3960, -0.9243,  0.7996,  0.0117,\n",
       "          0.8576,  0.9999, -0.7103, -0.3174, -0.6813, -0.1619,  0.7775,  0.9851,\n",
       "         -0.7390, -0.9950,  0.9982, -0.0258,  0.7089, -0.9963,  0.9815,  0.8878,\n",
       "          0.1669,  0.4494,  0.5933,  0.9553, -0.8466, -0.9170,  0.9107, -0.9215,\n",
       "          0.5924, -0.3454, -0.1810, -0.1334,  0.8695, -0.9419, -0.1948,  0.2804,\n",
       "         -0.3503, -0.3915, -0.9815,  0.9591, -0.2021,  0.8406, -0.9085, -0.8789,\n",
       "         -0.6250, -0.6943, -0.7838, -0.5144,  0.9986, -0.9835, -0.9947, -0.1209,\n",
       "          0.4859,  0.0761,  0.8787,  0.9831, -0.4847, -0.9719,  0.9590, -0.8640,\n",
       "         -0.5886,  0.8444, -0.9769, -0.9468,  0.9970, -0.8708, -0.9933, -0.6588,\n",
       "          0.7151, -0.9970,  0.8877,  0.2667],\n",
       "        [-0.4038, -0.5668, -0.9553,  0.7044, -0.1806,  0.8567, -0.9533, -0.9928,\n",
       "         -0.5771,  0.3352, -0.3179, -0.8524,  0.8671,  0.8418,  0.8759, -0.5905,\n",
       "          0.5969,  0.1634,  0.5914,  0.2552, -0.8195,  0.2586,  0.8347, -0.6795,\n",
       "         -0.7870, -0.7865, -0.5279, -0.9710, -0.8305,  0.6031,  0.0289,  0.1769,\n",
       "         -0.8877,  0.6810, -0.7137, -0.9302,  0.9163,  0.3350,  0.9600, -0.3065,\n",
       "         -0.8606, -0.6843,  0.9987,  0.9437, -0.9520, -0.8964,  0.3947,  0.6851,\n",
       "          0.3788,  0.0697,  0.4917,  0.9854, -0.5581, -0.8607,  0.0104, -0.9831,\n",
       "          0.9293,  0.6239, -0.6326,  0.9623, -0.8987, -0.9238,  0.8523, -0.4781,\n",
       "         -0.5968, -0.8811, -0.9014,  0.9124, -0.6729,  0.1419,  0.9814, -0.9271,\n",
       "          0.3448,  0.9518,  0.4012,  0.2968,  0.2352,  0.8571, -0.4475, -0.1385,\n",
       "          0.9938,  0.5727,  0.9216,  0.9967, -0.0190,  0.5267, -0.7085, -0.9957,\n",
       "         -0.9676,  0.9886, -0.6542, -0.5025, -0.7989,  0.4195,  0.6581,  0.0109,\n",
       "         -0.8587, -0.6507, -0.8604, -0.7915],\n",
       "        [-0.7107, -0.8143, -0.9991, -0.4890, -0.2780,  0.9982, -0.0528, -0.9998,\n",
       "          0.9736,  0.9528,  0.1603, -0.8030,  0.9846,  0.9950,  0.1796, -0.2707,\n",
       "          0.9839,  0.1434,  0.3291,  0.9555, -0.0305,  0.9801,  0.9469, -0.9266,\n",
       "         -0.9130, -0.8417, -0.8949, -0.9938,  0.8783,  0.7941, -0.4056, -0.9859,\n",
       "          0.0484,  0.7908, -0.9901, -0.3830, -0.9276,  0.9857,  0.9722, -0.9723,\n",
       "         -0.9987, -0.6692,  0.9985,  0.9958, -0.6546, -0.9885,  0.9447, -0.0058,\n",
       "          0.8886, -0.6143, -0.3726,  0.9995, -0.6930, -0.9777, -0.6400, -0.8274,\n",
       "          0.9512,  0.6788, -0.9919,  0.9105, -0.9872, -0.9792,  0.9115, -0.1140,\n",
       "         -0.4452,  0.9372, -0.9821,  0.9985, -0.9998, -0.9710,  1.0000,  0.3122,\n",
       "          0.1819, -0.8554,  0.1112, -0.6915,  0.9994, -0.3061, -0.9913,  0.0926,\n",
       "          0.9848,  0.5652,  0.9632,  0.9995, -0.5666,  0.8522, -0.6105, -0.9367,\n",
       "         -0.9835,  0.8721, -0.4745, -0.9944, -0.7827,  0.5381,  0.5114,  0.9837,\n",
       "         -0.8883, -0.9770,  0.9687,  0.6883]])"
      ]
     },
     "execution_count": 162,
     "metadata": {},
     "output_type": "execute_result"
    }
   ],
   "source": [
    "h = torch.tanh(embed.view(-1, 6) @ W1 + b1)\n",
    "h"
   ]
  },
  {
   "cell_type": "markdown",
   "id": "75f76adc",
   "metadata": {},
   "source": [
    "Let's create the second layer, which will take these values and produce a probability distribution of the 27 potential characters:"
   ]
  },
  {
   "cell_type": "code",
   "execution_count": 163,
   "id": "e4ad729c",
   "metadata": {},
   "outputs": [
    {
     "data": {
      "text/plain": [
       "tensor([[  2.5355,   1.4285,  -0.5554,   0.5025,  -4.0405,   5.7500, -10.8605,\n",
       "         -20.8747,   1.6982,   0.3239,  -5.0862, -12.6389, -11.3005,   4.6717,\n",
       "          -7.1378,  -3.0151,  10.0648,   2.8783,   2.2600, -15.3109,   2.6002,\n",
       "          -0.5761,  -2.5086,   4.3347,  -0.2843,  18.3531,   5.2250],\n",
       "        [  3.8994,  -6.2994,  -4.7015,  -7.3717,   5.7893,  -0.6632, -28.3738,\n",
       "          -9.2037,  -2.4826,   4.3282, -12.4050, -15.4718,  -5.3029,  -2.3148,\n",
       "         -11.6994,  -9.9921,   4.0407,   8.6430,  -2.4585, -14.0408,   0.3474,\n",
       "          -0.1287,  -5.5822,   8.9143,  -1.6870,  13.2154,   6.9671],\n",
       "        [ -1.1802,   0.5486,  -0.6542,  -3.6250,  10.1093,  -3.3995,  -7.5130,\n",
       "         -11.2209,   6.9735,   0.9617,  -7.0510,  -1.8003,   3.1685,   4.2005,\n",
       "          -5.9783,  -2.8004,  12.9170,   3.5407,   3.7506,  -8.5992,  -4.4883,\n",
       "           9.3374,   0.7267,  -5.7790,   4.6904,  15.4639,   2.1483],\n",
       "        [ -1.8510,   8.1809,  -9.6048, -15.1806,   8.0927,   8.0946,  -4.4072,\n",
       "         -16.8413,  -5.4675,   8.3189, -13.7634, -11.3388,  -9.9675,   1.2771,\n",
       "          -2.7939,  -9.4215,   1.6527,  -1.9596,  -1.7407, -18.1045,  -0.2078,\n",
       "          -5.3022,  -3.5929,  -0.5504,   0.1777,  20.5027,  -0.2414],\n",
       "        [ -0.9672,   5.7940,  -3.0524,  -3.2365,   6.7670,   0.5511,   7.7445,\n",
       "         -25.0251,  -5.0468,   6.7247,  -3.2417, -14.3336,  -4.1569,   3.0824,\n",
       "           0.0831, -11.1322,   6.5095,  -6.5197,   2.3582, -16.8844,   3.5524,\n",
       "          -3.0543,  -4.7683,  10.3932,   2.4575,  19.6825,   1.8663]])"
      ]
     },
     "execution_count": 163,
     "metadata": {},
     "output_type": "execute_result"
    }
   ],
   "source": [
    "W2 = torch.randn((100, 27))\n",
    "b2 = torch.randn(27)\n",
    "\n",
    "logits = h @ W2 + b2\n",
    "logits"
   ]
  },
  {
   "cell_type": "markdown",
   "id": "5c06664d",
   "metadata": {},
   "source": [
    "In the previous example, we calculated the loss from the logits by manually calculating the negative log likelihood. Pytorch provides this classification function: https://pytorch.org/docs/stable/generated/torch.nn.functional.cross_entropy.html#torch.nn.functional.cross_entropy.\n",
    "\n",
    "Let's see what is the loss of the neural net, based on the one example we have given it:"
   ]
  },
  {
   "cell_type": "code",
   "execution_count": 164,
   "id": "183b4784",
   "metadata": {},
   "outputs": [
    {
     "data": {
      "text/plain": [
       "tensor(14.4954)"
      ]
     },
     "execution_count": 164,
     "metadata": {},
     "output_type": "execute_result"
    }
   ],
   "source": [
    "loss = F.cross_entropy(logits, Y)\n",
    "loss"
   ]
  },
  {
   "cell_type": "code",
   "execution_count": 165,
   "id": "44f0afd9",
   "metadata": {},
   "outputs": [],
   "source": [
    "parameters = [C, W1, b1, W2, b2]\n",
    "\n",
    "for p in parameters:\n",
    "    p.requires_grad = True"
   ]
  },
  {
   "cell_type": "markdown",
   "id": "7bbc3b67",
   "metadata": {},
   "source": [
    "Our neural network has the following number of parameters:"
   ]
  },
  {
   "cell_type": "code",
   "execution_count": 166,
   "id": "a1d477ce",
   "metadata": {},
   "outputs": [
    {
     "data": {
      "text/plain": [
       "3481"
      ]
     },
     "execution_count": 166,
     "metadata": {},
     "output_type": "execute_result"
    }
   ],
   "source": [
    "sum(p.nelement() for p in parameters)"
   ]
  },
  {
   "cell_type": "markdown",
   "id": "a0cdc6b4",
   "metadata": {},
   "source": [
    "Let's train our neural net on the same single example:"
   ]
  },
  {
   "cell_type": "code",
   "execution_count": 167,
   "id": "a743d28f",
   "metadata": {},
   "outputs": [
    {
     "name": "stdout",
     "output_type": "stream",
     "text": [
      "0: 14.495404243469238\n",
      "5: 6.779103755950928\n",
      "10: 3.578019380569458\n",
      "15: 1.853354811668396\n",
      "20: 0.8765897750854492\n",
      "25: 0.47485485672950745\n",
      "30: 0.3122987747192383\n",
      "35: 0.23300385475158691\n",
      "40: 0.18684235215187073\n",
      "45: 0.15659072995185852\n"
     ]
    }
   ],
   "source": [
    "for i in range(50):\n",
    "    \n",
    "    # forward pass\n",
    "    embed = C[X]\n",
    "    h = torch.tanh(embed.view(5, 6) @ W1 + b1)\n",
    "    logits = h @ W2 + b2\n",
    "    loss = F.cross_entropy(logits, Y)\n",
    "    if i % 5 == 0:\n",
    "        print(f'{i}: {loss.item()}')\n",
    "    \n",
    "    # backward pass\n",
    "    for p in parameters:\n",
    "        p.grad = None\n",
    "    loss.backward()\n",
    "    \n",
    "    # update\n",
    "    for p in parameters:\n",
    "        p.data += -0.01 * p.grad"
   ]
  },
  {
   "cell_type": "markdown",
   "id": "36260251",
   "metadata": {},
   "source": [
    "Observe that the loss is very low. This is because our neural net has 3500 parameters, and only needs to squeeze in 5 example. It is \"overfitting\" the data.\n",
    "\n",
    "Let's run the training again but on the entire dataset."
   ]
  },
  {
   "cell_type": "code",
   "execution_count": 168,
   "id": "bb4593a4",
   "metadata": {},
   "outputs": [],
   "source": [
    "# create training set\n",
    "\n",
    "block_size = 3\n",
    "X, Y = [], []\n",
    "for name in names:\n",
    "    context = [0] * block_size\n",
    "    for ch in name + '.':\n",
    "        ix = stoi[ch]\n",
    "        X.append(context)\n",
    "        Y.append(ix)\n",
    "        context = context[1:] + [ix]\n",
    "\n",
    "X = torch.tensor(X)\n",
    "Y = torch.tensor(Y)\n",
    "\n",
    "# initialise net\n",
    "\n",
    "C = torch.randn((27, 2))\n",
    "embed = C[X]\n",
    "W1 = torch.randn((6, 100))\n",
    "b1 = torch.randn(100)\n",
    "W2 = torch.randn((100, 27))\n",
    "b2 = torch.randn(27)\n",
    "\n",
    "parameters = [C, W1, b1, W2, b2]\n",
    "for p in parameters:\n",
    "    p.requires_grad = True"
   ]
  },
  {
   "cell_type": "markdown",
   "id": "4975f254",
   "metadata": {},
   "source": [
    "Observe that the size of embed now contains 3 characters, with 2 dimensions, for 228,000 examples:"
   ]
  },
  {
   "cell_type": "code",
   "execution_count": 169,
   "id": "caa9b143",
   "metadata": {},
   "outputs": [
    {
     "data": {
      "text/plain": [
       "torch.Size([228146, 3, 2])"
      ]
     },
     "execution_count": 169,
     "metadata": {},
     "output_type": "execute_result"
    }
   ],
   "source": [
    "embed.shape"
   ]
  },
  {
   "cell_type": "code",
   "execution_count": 170,
   "id": "6391faf4",
   "metadata": {},
   "outputs": [
    {
     "name": "stdout",
     "output_type": "stream",
     "text": [
      "0: 16.417057037353516\n",
      "5: 15.704347610473633\n",
      "10: 15.064451217651367\n",
      "15: 14.476014137268066\n",
      "20: 13.94002628326416\n",
      "25: 13.455886840820312\n",
      "30: 13.008109092712402\n",
      "35: 12.585150718688965\n",
      "40: 12.184182167053223\n",
      "45: 11.805460929870605\n"
     ]
    }
   ],
   "source": [
    "for i in range(50):\n",
    "    \n",
    "    # forward pass\n",
    "    embed = C[X]\n",
    "    h = torch.tanh(embed.view(-1, 6) @ W1 + b1)\n",
    "    logits = h @ W2 + b2\n",
    "    loss = F.cross_entropy(logits, Y)\n",
    "    if i % 5 == 0:\n",
    "        print(f'{i}: {loss.item()}')\n",
    "    \n",
    "    # backward pass\n",
    "    for p in parameters:\n",
    "        p.grad = None\n",
    "    loss.backward()\n",
    "    \n",
    "    # update\n",
    "    for p in parameters:\n",
    "        p.data += -0.01 * p.grad"
   ]
  },
  {
   "cell_type": "markdown",
   "id": "e1963ed9",
   "metadata": {},
   "source": [
    "Observe that computing the gradients for 228,000 examples for each pass is slow. Instead of using all the examples, it is better to pick a smaller batch of examples. This will reduce the quality of our gradient, but is still good enough. It is better to make many steps in roughly the right direction, than it is to take fewer steps in the right direction.\n",
    "\n",
    "Let's amend our training loop. \n",
    "\n",
    "We will create a vector of 32 random integers between 0 and the number of examples, and index into our examples to create our batch."
   ]
  },
  {
   "cell_type": "code",
   "execution_count": 171,
   "id": "12063e99",
   "metadata": {},
   "outputs": [
    {
     "name": "stdout",
     "output_type": "stream",
     "text": [
      "torch.Size([228146, 3])\n",
      "228146\n"
     ]
    }
   ],
   "source": [
    "print(X.shape)\n",
    "num_examples = X.shape[0]\n",
    "print(num_examples)"
   ]
  },
  {
   "cell_type": "code",
   "execution_count": 172,
   "id": "c1320b79",
   "metadata": {},
   "outputs": [
    {
     "name": "stdout",
     "output_type": "stream",
     "text": [
      "0: 12.168842315673828\n",
      "5: 10.076385498046875\n",
      "10: 11.882920265197754\n",
      "15: 9.418489456176758\n",
      "20: 9.35039234161377\n",
      "25: 9.341959953308105\n",
      "30: 9.19050407409668\n",
      "35: 7.795934200286865\n",
      "40: 9.044510841369629\n",
      "45: 9.55443000793457\n"
     ]
    }
   ],
   "source": [
    "for i in range(50):\n",
    "    ix = torch.randint(0, num_examples, (32,))\n",
    "    \n",
    "    # forward pass\n",
    "    embed = C[X[ix]]\n",
    "    h = torch.tanh(embed.view(-1, 6) @ W1 + b1)\n",
    "    logits = h @ W2 + b2\n",
    "    loss = F.cross_entropy(logits, Y[ix])\n",
    "    if i % 5 == 0:\n",
    "        print(f'{i}: {loss.item()}')\n",
    "    \n",
    "    # backward pass\n",
    "    for p in parameters:\n",
    "        p.grad = None\n",
    "    loss.backward()\n",
    "    \n",
    "    # update\n",
    "    for p in parameters:\n",
    "        p.data += -0.01 * p.grad"
   ]
  },
  {
   "cell_type": "markdown",
   "id": "acb4681d",
   "metadata": {},
   "source": [
    "Observe that this computed much faster.\n",
    "\n",
    "We picked a learning rate of `0.01`, but does it work well? Let's use the following function to generate a range of potential learning rates, and we'll track our loss during a training loop to see which rates do well."
   ]
  },
  {
   "cell_type": "code",
   "execution_count": 183,
   "id": "fd08cbe6",
   "metadata": {
    "scrolled": false
   },
   "outputs": [
    {
     "data": {
      "text/plain": [
       "[<matplotlib.lines.Line2D at 0x1283b5a20>]"
      ]
     },
     "execution_count": 183,
     "metadata": {},
     "output_type": "execute_result"
    },
    {
     "data": {
      "image/png": "[encoded data removed]",
      "text/plain": [
       "<Figure size 640x480 with 1 Axes>"
      ]
     },
     "metadata": {},
     "output_type": "display_data"
    }
   ],
   "source": [
    "xs = torch.arange(0, 1000, 1)\n",
    "learning_rates = 10 ** torch.linspace(-3, 0, 1000)\n",
    "plt.plot(xs, learning_rates)"
   ]
  },
  {
   "cell_type": "code",
   "execution_count": 186,
   "id": "31ac2252",
   "metadata": {},
   "outputs": [],
   "source": [
    "# initialise net\n",
    "\n",
    "C = torch.randn((27, 2))\n",
    "embed = C[X]\n",
    "W1 = torch.randn((6, 100))\n",
    "b1 = torch.randn(100)\n",
    "W2 = torch.randn((100, 27))\n",
    "b2 = torch.randn(27)\n",
    "\n",
    "parameters = [C, W1, b1, W2, b2]\n",
    "for p in parameters:\n",
    "    p.requires_grad = True\n",
    "    \n",
    "# training loop\n",
    "\n",
    "learning_rates_i = []\n",
    "losses_i = []\n",
    "    \n",
    "for i in range(1000):\n",
    "    ix = torch.randint(0, num_examples, (32,))\n",
    "    \n",
    "    # forward pass\n",
    "    embed = C[X[ix]]\n",
    "    h = torch.tanh(embed.view(-1, 6) @ W1 + b1)\n",
    "    logits = h @ W2 + b2\n",
    "    loss = F.cross_entropy(logits, Y[ix])\n",
    "    \n",
    "    # backward pass\n",
    "    for p in parameters:\n",
    "        p.grad = None\n",
    "    loss.backward()\n",
    "    \n",
    "    # update\n",
    "    learning_rate = learning_rates[i]\n",
    "    for p in parameters:\n",
    "        p.data += -learning_rate * p.grad\n",
    "        \n",
    "    # track stats\n",
    "    learning_rates_i.append(learning_rate.item())\n",
    "    losses_i.append(loss.item())"
   ]
  },
  {
   "cell_type": "code",
   "execution_count": 187,
   "id": "a89d7e75",
   "metadata": {},
   "outputs": [
    {
     "data": {
      "text/plain": [
       "[<matplotlib.lines.Line2D at 0x10fe5f340>]"
      ]
     },
     "execution_count": 187,
     "metadata": {},
     "output_type": "execute_result"
    },
    {
     "data": {
      "image/png": "[encoded data removed]",
      "text/plain": [
       "<Figure size 640x480 with 1 Axes>"
      ]
     },
     "metadata": {},
     "output_type": "display_data"
    }
   ],
   "source": [
    "plt.plot(learning_rates_i, losses_i)"
   ]
  },
  {
   "cell_type": "markdown",
   "id": "47b164d3",
   "metadata": {},
   "source": [
    "Observe that at very low values, the loss stays high. At higher values > 0.2 we see that the loss becomes more unstable. The \"sweet spot\" here would be around 0.1, at the bottom of the curve."
   ]
  },
  {
   "cell_type": "markdown",
   "id": "06c8c899",
   "metadata": {},
   "source": [
    "Let's train our neural net with this learning rate and see what loss we get. Remember in part 1 the loss was around 2.45."
   ]
  },
  {
   "cell_type": "code",
   "execution_count": 189,
   "id": "5382982f",
   "metadata": {},
   "outputs": [],
   "source": [
    "# initialise net\n",
    "\n",
    "C = torch.randn((27, 2))\n",
    "embed = C[X]\n",
    "W1 = torch.randn((6, 100))\n",
    "b1 = torch.randn(100)\n",
    "W2 = torch.randn((100, 27))\n",
    "b2 = torch.randn(27)\n",
    "\n",
    "parameters = [C, W1, b1, W2, b2]\n",
    "for p in parameters:\n",
    "    p.requires_grad = True\n",
    "    \n",
    "# training loop\n",
    "\n",
    "for i in range(200000):\n",
    "    ix = torch.randint(0, num_examples, (32,))\n",
    "    \n",
    "    # forward pass\n",
    "    embed = C[X[ix]]\n",
    "    h = torch.tanh(embed.view(-1, 6) @ W1 + b1)\n",
    "    logits = h @ W2 + b2\n",
    "    loss = F.cross_entropy(logits, Y[ix])\n",
    "    \n",
    "    # backward pass\n",
    "    for p in parameters:\n",
    "        p.grad = None\n",
    "    loss.backward()\n",
    "    \n",
    "    # update\n",
    "    for p in parameters:\n",
    "        p.data += -0.1 * p.grad"
   ]
  },
  {
   "cell_type": "code",
   "execution_count": 190,
   "id": "691783f0",
   "metadata": {},
   "outputs": [
    {
     "data": {
      "text/plain": [
       "tensor(1.9474, grad_fn=<NllLossBackward0>)"
      ]
     },
     "execution_count": 190,
     "metadata": {},
     "output_type": "execute_result"
    }
   ],
   "source": [
    "embed = C[X[ix]]\n",
    "h = torch.tanh(embed.view(-1, 6) @ W1 + b1)\n",
    "logits = h @ W2 + b2\n",
    "loss = F.cross_entropy(logits, Y[ix])\n",
    "loss"
   ]
  },
  {
   "cell_type": "markdown",
   "id": "c2e095ff",
   "metadata": {},
   "source": [
    "An improvement! Here is a visualiation of the embedding matrices for all characters:"
   ]
  },
  {
   "cell_type": "code",
   "execution_count": 191,
   "id": "31ab3d58",
   "metadata": {},
   "outputs": [
    {
     "data": {
      "image/png": "[encoded data removed]",
      "text/plain": [
       "<Figure size 800x800 with 1 Axes>"
      ]
     },
     "metadata": {},
     "output_type": "display_data"
    }
   ],
   "source": [
    "plt.figure(figsize=(8,8))\n",
    "plt.scatter(C[:,0].data, C[:,1].data, s=200)\n",
    "for i in range(C.shape[0]):\n",
    "    plt.text(C[i,0].item(), C[i,1].item(), itos[i], ha=\"center\", va=\"center\", color='white')\n",
    "plt.grid('minor')"
   ]
  },
  {
   "cell_type": "markdown",
   "id": "7732096c",
   "metadata": {},
   "source": [
    "Observe how the nerual net has grouped vowels close together. `q` also appears to be an outlier."
   ]
  },
  {
   "cell_type": "markdown",
   "id": "ab61338f",
   "metadata": {},
   "source": [
    "We can sample from the neural net. We feed in the first character (`...`), get our probability distrubtion, and sample from it until we receive an end character."
   ]
  },
  {
   "cell_type": "code",
   "execution_count": 195,
   "id": "135e65a7",
   "metadata": {},
   "outputs": [
    {
     "name": "stdout",
     "output_type": "stream",
     "text": [
      "baddhita.\n",
      "ina.\n",
      "selli.\n",
      "ira.\n",
      "nitas.\n",
      "ipe.\n",
      "sevaniiseloisliah.\n",
      "cizaevahxida.\n",
      "cachianai.\n",
      "tehiry.\n",
      "israidei.\n",
      "ashadhien.\n",
      "antestionna.\n",
      "omihan.\n",
      "badios.\n",
      "mash.\n",
      "isa.\n",
      "isrion.\n",
      "ediishilistia.\n",
      "beian.\n",
      "jhin.\n",
      "weana.\n",
      "kaina.\n",
      "maxabiemina.\n",
      "darrishi.\n",
      "cem.\n",
      "nahayten.\n",
      "ats.\n",
      "izai.\n",
      "iik.\n"
     ]
    }
   ],
   "source": [
    "for _ in range(30):\n",
    "    out = []\n",
    "    context = [0] * block_size\n",
    "    while True:\n",
    "        emb = C[torch.tensor([context])] # (1,block_size,d)\n",
    "        h = torch.tanh(emb.view(1, -1) @ W1 + b1)\n",
    "        logits = h @ W2 + b2\n",
    "        probs = F.softmax(logits, dim=1)\n",
    "        ix = torch.multinomial(probs, num_samples=1).item()\n",
    "        context = context[1:] + [ix]\n",
    "        out.append(ix)\n",
    "        if ix == 0:\n",
    "            break\n",
    "    \n",
    "    print(''.join(itos[i] for i in out))"
   ]
  },
  {
   "cell_type": "code",
   "execution_count": null,
   "id": "a7800d97",
   "metadata": {},
   "outputs": [],
   "source": []
  }
 ],
 "metadata": {
  "kernelspec": {
   "display_name": "Python 3 (ipykernel)",
   "language": "python",
   "name": "python3"
  },
  "language_info": {
   "codemirror_mode": {
    "name": "ipython",
    "version": 3
   },
   "file_extension": ".py",
   "mimetype": "text/x-python",
   "name": "python",
   "nbconvert_exporter": "python",
   "pygments_lexer": "ipython3",
   "version": "3.10.8"
  }
 },
 "nbformat": 4,
 "nbformat_minor": 5
}
